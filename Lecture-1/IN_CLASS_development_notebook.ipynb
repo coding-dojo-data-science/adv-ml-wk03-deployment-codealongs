{
 "cells": [
  {
   "cell_type": "markdown",
   "metadata": {},
   "source": [
    "# Lecture 1: Development Notebook for EDA Streamlit Page"
   ]
  },
  {
   "cell_type": "code",
   "execution_count": 1,
   "metadata": {},
   "outputs": [
    {
     "name": "stderr",
     "output_type": "stream",
     "text": [
      "/opt/homebrew/Caskroom/miniforge/base/envs/dojo-env/lib/python3.10/site-packages/pandas/core/arrays/masked.py:60: UserWarning: Pandas requires version '1.3.6' or newer of 'bottleneck' (version '1.3.5' currently installed).\n",
      "  from pandas.core import (\n"
     ]
    }
   ],
   "source": [
    "## imports\n",
    "import pandas as pd\n",
    "import matplotlib.pyplot as plt\n",
    "import seaborn as sns"
   ]
  },
  {
   "cell_type": "markdown",
   "metadata": {},
   "source": [
    "## Testing Functions"
   ]
  },
  {
   "cell_type": "code",
   "execution_count": 2,
   "metadata": {},
   "outputs": [],
   "source": [
    "## def load_data function\n",
    "\n",
    "## Test load_data function\n"
   ]
  },
  {
   "cell_type": "code",
   "execution_count": 3,
   "metadata": {},
   "outputs": [],
   "source": [
    "## Functions copy/pasted from LP\n",
    "\n",
    "def explore_categorical(df, x, fillna = True, placeholder = 'MISSING',\n",
    "                        figsize = (6,4), order = None):\n",
    " \n",
    "  # Make a copy of the dataframe and fillna \n",
    "  temp_df = df.copy()\n",
    "  # Before filling nulls, save null value counts and percent for printing \n",
    "  null_count = temp_df[x].isna().sum()\n",
    "  null_perc = null_count/len(temp_df)* 100\n",
    "  # fillna with placeholder\n",
    "  if fillna == True:\n",
    "    temp_df[x] = temp_df[x].fillna(placeholder)\n",
    "  # Create figure with desired figsize\n",
    "  fig, ax = plt.subplots(figsize=figsize)\n",
    "  # Plotting a count plot \n",
    "  sns.countplot(data=temp_df, x=x, ax=ax, order=order)\n",
    "  # Rotate Tick Labels for long names\n",
    "  ax.set_xticklabels(ax.get_xticklabels(), rotation=45, ha='right')\n",
    "  # Add a title with the feature name included\n",
    "  ax.set_title(f\"Column: {x}\")\n",
    "  \n",
    "  # Fix layout and show plot (before print statements)\n",
    "  fig.tight_layout()\n",
    "  plt.show()\n",
    "    \n",
    "  return fig\n",
    "\n",
    "## explore_numeric (Copied from LP)\n",
    "def explore_numeric(df, x, figsize=(6,5) ):\n",
    "  # Making our figure with gridspec for subplots\n",
    "  gridspec = {'height_ratios':[0.7,0.3]}\n",
    "  fig, axes = plt.subplots(nrows=2, figsize=figsize,\n",
    "                           sharex=True, gridspec_kw=gridspec)\n",
    "  # Histogram on Top\n",
    "  sns.histplot(data=df, x=x, ax=axes[0])\n",
    "  # Boxplot on Bottom\n",
    "  sns.boxplot(data=df, x=x, ax=axes[1])\n",
    "  ## Adding a title\n",
    "  axes[0].set_title(f\"Column: {x}\")\n",
    "  ## Adjusting subplots to best fill Figure\n",
    "  fig.tight_layout()\n",
    "  \n",
    "  # Ensure plot is shown before message\n",
    "  plt.show()\n",
    "  ## Print message with info on the count and % of null values\n",
    "  null_count = df[x].isna().sum()\n",
    "  null_perc = null_count/len(df)* 100\n",
    "  print(f\"- NaN's Found: {null_count} ({round(null_perc,2)}%)\")\n",
    "  return fig"
   ]
  },
  {
   "cell_type": "code",
   "execution_count": 4,
   "metadata": {},
   "outputs": [
    {
     "ename": "NameError",
     "evalue": "name 'df' is not defined",
     "output_type": "error",
     "traceback": [
      "\u001b[0;31m---------------------------------------------------------------------------\u001b[0m",
      "\u001b[0;31mNameError\u001b[0m                                 Traceback (most recent call last)",
      "Cell \u001b[0;32mIn[4], line 2\u001b[0m\n\u001b[1;32m      1\u001b[0m \u001b[38;5;66;03m## Test explore_categorical function\u001b[39;00m\n\u001b[0;32m----> 2\u001b[0m column \u001b[38;5;241m=\u001b[39m \u001b[43mdf\u001b[49m\u001b[38;5;241m.\u001b[39mselect_dtypes(include\u001b[38;5;241m=\u001b[39m\u001b[38;5;124m'\u001b[39m\u001b[38;5;124mobject\u001b[39m\u001b[38;5;124m'\u001b[39m)\u001b[38;5;241m.\u001b[39mcolumns[\u001b[38;5;241m0\u001b[39m]\n\u001b[1;32m      3\u001b[0m fig \u001b[38;5;241m=\u001b[39m explore_categorical(df, column)\n\u001b[1;32m      4\u001b[0m fig\n",
      "\u001b[0;31mNameError\u001b[0m: name 'df' is not defined"
     ]
    }
   ],
   "source": [
    "## Test explore_categorical function\n",
    "column = df.select_dtypes(include='object').columns[0]\n",
    "fig = explore_categorical(df, column)\n",
    "fig"
   ]
  },
  {
   "cell_type": "code",
   "execution_count": null,
   "metadata": {},
   "outputs": [],
   "source": [
    "## Test explore_numeric function\n",
    "column = df.select_dtypes(include='number').columns[0]\n",
    "fig = explore_numeric(df, column)\n",
    "fig"
   ]
  },
  {
   "cell_type": "code",
   "execution_count": null,
   "metadata": {},
   "outputs": [],
   "source": []
  }
 ],
 "metadata": {
  "kernelspec": {
   "display_name": "Python 3 (ipykernel)",
   "language": "python",
   "name": "python3"
  },
  "language_info": {
   "codemirror_mode": {
    "name": "ipython",
    "version": 3
   },
   "file_extension": ".py",
   "mimetype": "text/x-python",
   "name": "python",
   "nbconvert_exporter": "python",
   "pygments_lexer": "ipython3",
   "version": "3.10.10"
  }
 },
 "nbformat": 4,
 "nbformat_minor": 4
}
